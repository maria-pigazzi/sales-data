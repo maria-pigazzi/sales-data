{
 "cells": [
  {
   "cell_type": "code",
   "execution_count": 4,
   "metadata": {},
   "outputs": [],
   "source": [
    "import pandas as pd\n",
    "\n",
    "data = pd.read_csv('PRODUCT SALES.csv.zip')"
   ]
  },
  {
   "cell_type": "code",
   "execution_count": 2,
   "metadata": {},
   "outputs": [
    {
     "data": {
      "text/plain": [
       "(113036, 16)"
      ]
     },
     "execution_count": 2,
     "metadata": {},
     "output_type": "execute_result"
    }
   ],
   "source": [
    "data.shape # to know how many rows and columns are in the dataset"
   ]
  },
  {
   "cell_type": "code",
   "execution_count": 3,
   "metadata": {},
   "outputs": [
    {
     "data": {
      "text/plain": [
       "Index(['Date', 'Day', 'Month', 'Year', 'Customer_Age', 'Age_Group',\n",
       "       'Age_Group_NUMBER', 'Customer_Gender', 'Country', 'Product_Category',\n",
       "       'Order_Quantity', 'Unit_Cost', 'Unit_Price', 'Profit', 'Cost',\n",
       "       'Revenue'],\n",
       "      dtype='object')"
      ]
     },
     "execution_count": 3,
     "metadata": {},
     "output_type": "execute_result"
    }
   ],
   "source": [
    "data.columns # gives names of columns, it is not a function that can be called, so it does not need ()"
   ]
  },
  {
   "cell_type": "code",
   "execution_count": 5,
   "metadata": {},
   "outputs": [
    {
     "data": {
      "text/html": [
       "<div>\n",
       "<style scoped>\n",
       "    .dataframe tbody tr th:only-of-type {\n",
       "        vertical-align: middle;\n",
       "    }\n",
       "\n",
       "    .dataframe tbody tr th {\n",
       "        vertical-align: top;\n",
       "    }\n",
       "\n",
       "    .dataframe thead th {\n",
       "        text-align: right;\n",
       "    }\n",
       "</style>\n",
       "<table border=\"1\" class=\"dataframe\">\n",
       "  <thead>\n",
       "    <tr style=\"text-align: right;\">\n",
       "      <th></th>\n",
       "      <th>Day</th>\n",
       "      <th>Year</th>\n",
       "      <th>Customer_Age</th>\n",
       "      <th>Age_Group_NUMBER</th>\n",
       "      <th>Order_Quantity</th>\n",
       "      <th>Unit_Cost</th>\n",
       "      <th>Unit_Price</th>\n",
       "      <th>Profit</th>\n",
       "      <th>Cost</th>\n",
       "      <th>Revenue</th>\n",
       "    </tr>\n",
       "  </thead>\n",
       "  <tbody>\n",
       "    <tr>\n",
       "      <th>count</th>\n",
       "      <td>113036.000000</td>\n",
       "      <td>113036.000000</td>\n",
       "      <td>113036.000000</td>\n",
       "      <td>113036.0</td>\n",
       "      <td>113036.000000</td>\n",
       "      <td>113036.000000</td>\n",
       "      <td>113036.000000</td>\n",
       "      <td>113036.000000</td>\n",
       "      <td>113036.000000</td>\n",
       "      <td>113036.000000</td>\n",
       "    </tr>\n",
       "    <tr>\n",
       "      <th>mean</th>\n",
       "      <td>15.665753</td>\n",
       "      <td>2019.520153</td>\n",
       "      <td>35.919212</td>\n",
       "      <td>1.0</td>\n",
       "      <td>11.901660</td>\n",
       "      <td>267.296366</td>\n",
       "      <td>452.938427</td>\n",
       "      <td>372.681358</td>\n",
       "      <td>469.318695</td>\n",
       "      <td>842.000053</td>\n",
       "    </tr>\n",
       "    <tr>\n",
       "      <th>std</th>\n",
       "      <td>8.781567</td>\n",
       "      <td>1.179704</td>\n",
       "      <td>11.021936</td>\n",
       "      <td>0.0</td>\n",
       "      <td>9.561857</td>\n",
       "      <td>549.835483</td>\n",
       "      <td>922.071219</td>\n",
       "      <td>595.080571</td>\n",
       "      <td>884.866118</td>\n",
       "      <td>1466.202934</td>\n",
       "    </tr>\n",
       "    <tr>\n",
       "      <th>min</th>\n",
       "      <td>1.000000</td>\n",
       "      <td>2017.000000</td>\n",
       "      <td>17.000000</td>\n",
       "      <td>1.0</td>\n",
       "      <td>1.000000</td>\n",
       "      <td>1.000000</td>\n",
       "      <td>2.000000</td>\n",
       "      <td>1.000000</td>\n",
       "      <td>1.000000</td>\n",
       "      <td>2.000000</td>\n",
       "    </tr>\n",
       "    <tr>\n",
       "      <th>25%</th>\n",
       "      <td>8.000000</td>\n",
       "      <td>2019.000000</td>\n",
       "      <td>28.000000</td>\n",
       "      <td>1.0</td>\n",
       "      <td>2.000000</td>\n",
       "      <td>2.000000</td>\n",
       "      <td>5.000000</td>\n",
       "      <td>39.000000</td>\n",
       "      <td>28.000000</td>\n",
       "      <td>70.000000</td>\n",
       "    </tr>\n",
       "    <tr>\n",
       "      <th>50%</th>\n",
       "      <td>16.000000</td>\n",
       "      <td>2019.500000</td>\n",
       "      <td>35.000000</td>\n",
       "      <td>1.0</td>\n",
       "      <td>10.000000</td>\n",
       "      <td>9.000000</td>\n",
       "      <td>24.000000</td>\n",
       "      <td>135.000000</td>\n",
       "      <td>108.000000</td>\n",
       "      <td>245.000000</td>\n",
       "    </tr>\n",
       "    <tr>\n",
       "      <th>75%</th>\n",
       "      <td>23.000000</td>\n",
       "      <td>2021.000000</td>\n",
       "      <td>43.000000</td>\n",
       "      <td>1.0</td>\n",
       "      <td>20.000000</td>\n",
       "      <td>42.000000</td>\n",
       "      <td>70.000000</td>\n",
       "      <td>432.000000</td>\n",
       "      <td>432.000000</td>\n",
       "      <td>880.000000</td>\n",
       "    </tr>\n",
       "    <tr>\n",
       "      <th>max</th>\n",
       "      <td>31.000000</td>\n",
       "      <td>2021.000000</td>\n",
       "      <td>87.000000</td>\n",
       "      <td>1.0</td>\n",
       "      <td>32.000000</td>\n",
       "      <td>2171.000000</td>\n",
       "      <td>3578.000000</td>\n",
       "      <td>26158.000000</td>\n",
       "      <td>42978.000000</td>\n",
       "      <td>69136.000000</td>\n",
       "    </tr>\n",
       "  </tbody>\n",
       "</table>\n",
       "</div>"
      ],
      "text/plain": [
       "                 Day           Year   Customer_Age  Age_Group_NUMBER  \\\n",
       "count  113036.000000  113036.000000  113036.000000          113036.0   \n",
       "mean       15.665753    2019.520153      35.919212               1.0   \n",
       "std         8.781567       1.179704      11.021936               0.0   \n",
       "min         1.000000    2017.000000      17.000000               1.0   \n",
       "25%         8.000000    2019.000000      28.000000               1.0   \n",
       "50%        16.000000    2019.500000      35.000000               1.0   \n",
       "75%        23.000000    2021.000000      43.000000               1.0   \n",
       "max        31.000000    2021.000000      87.000000               1.0   \n",
       "\n",
       "       Order_Quantity      Unit_Cost     Unit_Price         Profit  \\\n",
       "count   113036.000000  113036.000000  113036.000000  113036.000000   \n",
       "mean        11.901660     267.296366     452.938427     372.681358   \n",
       "std          9.561857     549.835483     922.071219     595.080571   \n",
       "min          1.000000       1.000000       2.000000       1.000000   \n",
       "25%          2.000000       2.000000       5.000000      39.000000   \n",
       "50%         10.000000       9.000000      24.000000     135.000000   \n",
       "75%         20.000000      42.000000      70.000000     432.000000   \n",
       "max         32.000000    2171.000000    3578.000000   26158.000000   \n",
       "\n",
       "                Cost        Revenue  \n",
       "count  113036.000000  113036.000000  \n",
       "mean      469.318695     842.000053  \n",
       "std       884.866118    1466.202934  \n",
       "min         1.000000       2.000000  \n",
       "25%        28.000000      70.000000  \n",
       "50%       108.000000     245.000000  \n",
       "75%       432.000000     880.000000  \n",
       "max     42978.000000   69136.000000  "
      ]
     },
     "execution_count": 5,
     "metadata": {},
     "output_type": "execute_result"
    }
   ],
   "source": [
    "data.describe() # gives the min, max, standard deviation, needs () to run as function"
   ]
  },
  {
   "cell_type": "code",
   "execution_count": 7,
   "metadata": {},
   "outputs": [
    {
     "data": {
      "text/plain": [
       "(35.91921157861212, 11.021886869480573)"
      ]
     },
     "execution_count": 7,
     "metadata": {},
     "output_type": "execute_result"
    }
   ],
   "source": [
    "import numpy as np # calculate the mean\n",
    "\n",
    "np.mean(data[\"Customer_Age\"]), np.std(data[\"Customer_Age\"])"
   ]
  },
  {
   "cell_type": "code",
   "execution_count": 11,
   "metadata": {},
   "outputs": [
    {
     "data": {
      "text/plain": [
       "(array([  5.,  33., 131., 439., 729., 798., 535., 242.,  75.,  13.]),\n",
       " array([-3.56938596, -2.88103194, -2.19267792, -1.50432389, -0.81596987,\n",
       "        -0.12761584,  0.56073818,  1.2490922 ,  1.93744623,  2.62580025,\n",
       "         3.31415428]),\n",
       " <BarContainer object of 10 artists>)"
      ]
     },
     "execution_count": 11,
     "metadata": {},
     "output_type": "execute_result"
    },
    {
     "data": {
      "image/png": "[encoded data removed]",
      "text/plain": [
       "<Figure size 640x480 with 1 Axes>"
      ]
     },
     "metadata": {},
     "output_type": "display_data"
    }
   ],
   "source": [
    "import scipy.stats as stats\n",
    "import matplotlib.pyplot as plt\n",
    "\n",
    "normal_numbers = stats.norm.rvs(loc = 0, scale = 1, size=3000) #passing the location parameter (or mean) and the scale (standard deviation): what happens when these two change?\n",
    "normal_numbers\n",
    "plt.hist(normal_numbers) # histogram with random data "
   ]
  },
  {
   "cell_type": "code",
   "execution_count": 16,
   "metadata": {},
   "outputs": [
    {
     "data": {
      "text/plain": [
       "<Axes: >"
      ]
     },
     "execution_count": 16,
     "metadata": {},
     "output_type": "execute_result"
    },
    {
     "data": {
      "image/png": "[encoded data removed]",
      "text/plain": [
       "<Figure size 640x480 with 1 Axes>"
      ]
     },
     "metadata": {},
     "output_type": "display_data"
    }
   ],
   "source": [
    "# plot normal distribution around the age\n",
    "# mean: where we have the highest probability of having data\n",
    "\n",
    "# how to create a histogram with the real data\n",
    "data[\"Customer_Age\"].hist() # hist is from pandas\n"
   ]
  },
  {
   "cell_type": "code",
   "execution_count": 15,
   "metadata": {},
   "outputs": [
    {
     "data": {
      "text/plain": [
       "(array([14788., 24962., 27568., 21038., 13286.,  7914.,  2946.,   334.,\n",
       "          130.,    70.]),\n",
       " array([17., 24., 31., 38., 45., 52., 59., 66., 73., 80., 87.]),\n",
       " <BarContainer object of 10 artists>)"
      ]
     },
     "execution_count": 15,
     "metadata": {},
     "output_type": "execute_result"
    },
    {
     "data": {
      "image/png": "[encoded data removed]",
      "text/plain": [
       "<Figure size 640x480 with 1 Axes>"
      ]
     },
     "metadata": {},
     "output_type": "display_data"
    }
   ],
   "source": [
    "plt.hist(data.Customer_Age)"
   ]
  },
  {
   "cell_type": "code",
   "execution_count": 17,
   "metadata": {},
   "outputs": [
    {
     "data": {
      "text/plain": [
       "array(['Bikes', 'Accessories', 'Clothing'], dtype=object)"
      ]
     },
     "execution_count": 17,
     "metadata": {},
     "output_type": "execute_result"
    }
   ],
   "source": [
    "# I want to know the different values of the product_category, what are the main product categories?\n",
    "\n",
    "data['Product_Category'].unique() # returns a new array without repetition, unique elements"
   ]
  },
  {
   "cell_type": "code",
   "execution_count": 22,
   "metadata": {},
   "outputs": [
    {
     "data": {
      "text/html": [
       "<div>\n",
       "<style scoped>\n",
       "    .dataframe tbody tr th:only-of-type {\n",
       "        vertical-align: middle;\n",
       "    }\n",
       "\n",
       "    .dataframe tbody tr th {\n",
       "        vertical-align: top;\n",
       "    }\n",
       "\n",
       "    .dataframe thead th {\n",
       "        text-align: right;\n",
       "    }\n",
       "</style>\n",
       "<table border=\"1\" class=\"dataframe\">\n",
       "  <thead>\n",
       "    <tr style=\"text-align: right;\">\n",
       "      <th></th>\n",
       "      <th>Date</th>\n",
       "      <th>Day</th>\n",
       "      <th>Month</th>\n",
       "      <th>Year</th>\n",
       "      <th>Customer_Age</th>\n",
       "      <th>Age_Group</th>\n",
       "      <th>Age_Group_NUMBER</th>\n",
       "      <th>Customer_Gender</th>\n",
       "      <th>Country</th>\n",
       "      <th>Product_Category</th>\n",
       "      <th>Order_Quantity</th>\n",
       "      <th>Unit_Cost</th>\n",
       "      <th>Unit_Price</th>\n",
       "      <th>Profit</th>\n",
       "      <th>Cost</th>\n",
       "      <th>Revenue</th>\n",
       "    </tr>\n",
       "  </thead>\n",
       "  <tbody>\n",
       "    <tr>\n",
       "      <th>0</th>\n",
       "      <td>01-01-17</td>\n",
       "      <td>1</td>\n",
       "      <td>January</td>\n",
       "      <td>2017</td>\n",
       "      <td>17</td>\n",
       "      <td>Youth (&lt;25)</td>\n",
       "      <td>1</td>\n",
       "      <td>M</td>\n",
       "      <td>canada</td>\n",
       "      <td>Bikes</td>\n",
       "      <td>2</td>\n",
       "      <td>1519.0</td>\n",
       "      <td>2443.0</td>\n",
       "      <td>1848.0</td>\n",
       "      <td>3038.0</td>\n",
       "      <td>4886.0</td>\n",
       "    </tr>\n",
       "    <tr>\n",
       "      <th>1</th>\n",
       "      <td>01-01-17</td>\n",
       "      <td>1</td>\n",
       "      <td>January</td>\n",
       "      <td>2017</td>\n",
       "      <td>23</td>\n",
       "      <td>Youth (&lt;25)</td>\n",
       "      <td>1</td>\n",
       "      <td>M</td>\n",
       "      <td>Australia</td>\n",
       "      <td>Bikes</td>\n",
       "      <td>2</td>\n",
       "      <td>1252.0</td>\n",
       "      <td>2295.0</td>\n",
       "      <td>2086.0</td>\n",
       "      <td>2504.0</td>\n",
       "      <td>4590.0</td>\n",
       "    </tr>\n",
       "    <tr>\n",
       "      <th>2</th>\n",
       "      <td>01-01-17</td>\n",
       "      <td>1</td>\n",
       "      <td>January</td>\n",
       "      <td>2017</td>\n",
       "      <td>33</td>\n",
       "      <td>Young Adults (25-34)</td>\n",
       "      <td>1</td>\n",
       "      <td>F</td>\n",
       "      <td>France</td>\n",
       "      <td>Bikes</td>\n",
       "      <td>2</td>\n",
       "      <td>2171.0</td>\n",
       "      <td>3578.0</td>\n",
       "      <td>2814.0</td>\n",
       "      <td>4342.0</td>\n",
       "      <td>7156.0</td>\n",
       "    </tr>\n",
       "    <tr>\n",
       "      <th>3</th>\n",
       "      <td>01-01-17</td>\n",
       "      <td>1</td>\n",
       "      <td>January</td>\n",
       "      <td>2017</td>\n",
       "      <td>39</td>\n",
       "      <td>Adults (35-64)</td>\n",
       "      <td>1</td>\n",
       "      <td>M</td>\n",
       "      <td>United States</td>\n",
       "      <td>Bikes</td>\n",
       "      <td>2</td>\n",
       "      <td>713.0</td>\n",
       "      <td>1120.0</td>\n",
       "      <td>814.0</td>\n",
       "      <td>1426.0</td>\n",
       "      <td>2240.0</td>\n",
       "    </tr>\n",
       "    <tr>\n",
       "      <th>4</th>\n",
       "      <td>01-01-17</td>\n",
       "      <td>1</td>\n",
       "      <td>January</td>\n",
       "      <td>2017</td>\n",
       "      <td>42</td>\n",
       "      <td>Adults (35-64)</td>\n",
       "      <td>1</td>\n",
       "      <td>M</td>\n",
       "      <td>United States</td>\n",
       "      <td>Bikes</td>\n",
       "      <td>2</td>\n",
       "      <td>344.0</td>\n",
       "      <td>540.0</td>\n",
       "      <td>392.0</td>\n",
       "      <td>688.0</td>\n",
       "      <td>1080.0</td>\n",
       "    </tr>\n",
       "    <tr>\n",
       "      <th>...</th>\n",
       "      <td>...</td>\n",
       "      <td>...</td>\n",
       "      <td>...</td>\n",
       "      <td>...</td>\n",
       "      <td>...</td>\n",
       "      <td>...</td>\n",
       "      <td>...</td>\n",
       "      <td>...</td>\n",
       "      <td>...</td>\n",
       "      <td>...</td>\n",
       "      <td>...</td>\n",
       "      <td>...</td>\n",
       "      <td>...</td>\n",
       "      <td>...</td>\n",
       "      <td>...</td>\n",
       "      <td>...</td>\n",
       "    </tr>\n",
       "    <tr>\n",
       "      <th>113031</th>\n",
       "      <td>31-12-21</td>\n",
       "      <td>31</td>\n",
       "      <td>December</td>\n",
       "      <td>2021</td>\n",
       "      <td>52</td>\n",
       "      <td>Adults (35-64)</td>\n",
       "      <td>1</td>\n",
       "      <td>F</td>\n",
       "      <td>United Kingdom</td>\n",
       "      <td>Bikes</td>\n",
       "      <td>2</td>\n",
       "      <td>1555.0</td>\n",
       "      <td>2443.0</td>\n",
       "      <td>1776.0</td>\n",
       "      <td>3110.0</td>\n",
       "      <td>4886.0</td>\n",
       "    </tr>\n",
       "    <tr>\n",
       "      <th>113032</th>\n",
       "      <td>31-12-21</td>\n",
       "      <td>31</td>\n",
       "      <td>December</td>\n",
       "      <td>2021</td>\n",
       "      <td>25</td>\n",
       "      <td>Young Adults (25-34)</td>\n",
       "      <td>1</td>\n",
       "      <td>F</td>\n",
       "      <td>Germany</td>\n",
       "      <td>Bikes</td>\n",
       "      <td>1</td>\n",
       "      <td>713.0</td>\n",
       "      <td>1120.0</td>\n",
       "      <td>407.0</td>\n",
       "      <td>713.0</td>\n",
       "      <td>1120.0</td>\n",
       "    </tr>\n",
       "    <tr>\n",
       "      <th>113033</th>\n",
       "      <td>31-12-21</td>\n",
       "      <td>31</td>\n",
       "      <td>December</td>\n",
       "      <td>2021</td>\n",
       "      <td>26</td>\n",
       "      <td>Young Adults (25-34)</td>\n",
       "      <td>1</td>\n",
       "      <td>M</td>\n",
       "      <td>Australia</td>\n",
       "      <td>Bikes</td>\n",
       "      <td>1</td>\n",
       "      <td>713.0</td>\n",
       "      <td>1120.0</td>\n",
       "      <td>407.0</td>\n",
       "      <td>713.0</td>\n",
       "      <td>1120.0</td>\n",
       "    </tr>\n",
       "    <tr>\n",
       "      <th>113034</th>\n",
       "      <td>31-12-21</td>\n",
       "      <td>31</td>\n",
       "      <td>December</td>\n",
       "      <td>2021</td>\n",
       "      <td>33</td>\n",
       "      <td>Young Adults (25-34)</td>\n",
       "      <td>1</td>\n",
       "      <td>F</td>\n",
       "      <td>Australia</td>\n",
       "      <td>Bikes</td>\n",
       "      <td>1</td>\n",
       "      <td>1252.0</td>\n",
       "      <td>2295.0</td>\n",
       "      <td>1043.0</td>\n",
       "      <td>1252.0</td>\n",
       "      <td>2295.0</td>\n",
       "    </tr>\n",
       "    <tr>\n",
       "      <th>113035</th>\n",
       "      <td>31-12-21</td>\n",
       "      <td>31</td>\n",
       "      <td>December</td>\n",
       "      <td>2021</td>\n",
       "      <td>44</td>\n",
       "      <td>Adults (35-64)</td>\n",
       "      <td>1</td>\n",
       "      <td>M</td>\n",
       "      <td>Australia</td>\n",
       "      <td>Bikes</td>\n",
       "      <td>1</td>\n",
       "      <td>713.0</td>\n",
       "      <td>1120.0</td>\n",
       "      <td>407.0</td>\n",
       "      <td>713.0</td>\n",
       "      <td>1120.0</td>\n",
       "    </tr>\n",
       "  </tbody>\n",
       "</table>\n",
       "<p>25982 rows × 16 columns</p>\n",
       "</div>"
      ],
      "text/plain": [
       "            Date  Day     Month  Year  Customer_Age             Age_Group  \\\n",
       "0       01-01-17    1   January  2017            17           Youth (<25)   \n",
       "1       01-01-17    1   January  2017            23           Youth (<25)   \n",
       "2       01-01-17    1   January  2017            33  Young Adults (25-34)   \n",
       "3       01-01-17    1   January  2017            39        Adults (35-64)   \n",
       "4       01-01-17    1   January  2017            42        Adults (35-64)   \n",
       "...          ...  ...       ...   ...           ...                   ...   \n",
       "113031  31-12-21   31  December  2021            52        Adults (35-64)   \n",
       "113032  31-12-21   31  December  2021            25  Young Adults (25-34)   \n",
       "113033  31-12-21   31  December  2021            26  Young Adults (25-34)   \n",
       "113034  31-12-21   31  December  2021            33  Young Adults (25-34)   \n",
       "113035  31-12-21   31  December  2021            44        Adults (35-64)   \n",
       "\n",
       "        Age_Group_NUMBER Customer_Gender         Country Product_Category  \\\n",
       "0                      1               M          canada            Bikes   \n",
       "1                      1               M       Australia            Bikes   \n",
       "2                      1               F          France            Bikes   \n",
       "3                      1               M   United States            Bikes   \n",
       "4                      1               M   United States            Bikes   \n",
       "...                  ...             ...             ...              ...   \n",
       "113031                 1               F  United Kingdom            Bikes   \n",
       "113032                 1               F         Germany            Bikes   \n",
       "113033                 1               M       Australia            Bikes   \n",
       "113034                 1               F       Australia            Bikes   \n",
       "113035                 1               M       Australia            Bikes   \n",
       "\n",
       "        Order_Quantity  Unit_Cost  Unit_Price  Profit    Cost  Revenue  \n",
       "0                    2     1519.0      2443.0  1848.0  3038.0   4886.0  \n",
       "1                    2     1252.0      2295.0  2086.0  2504.0   4590.0  \n",
       "2                    2     2171.0      3578.0  2814.0  4342.0   7156.0  \n",
       "3                    2      713.0      1120.0   814.0  1426.0   2240.0  \n",
       "4                    2      344.0       540.0   392.0   688.0   1080.0  \n",
       "...                ...        ...         ...     ...     ...      ...  \n",
       "113031               2     1555.0      2443.0  1776.0  3110.0   4886.0  \n",
       "113032               1      713.0      1120.0   407.0   713.0   1120.0  \n",
       "113033               1      713.0      1120.0   407.0   713.0   1120.0  \n",
       "113034               1     1252.0      2295.0  1043.0  1252.0   2295.0  \n",
       "113035               1      713.0      1120.0   407.0   713.0   1120.0  \n",
       "\n",
       "[25982 rows x 16 columns]"
      ]
     },
     "execution_count": 22,
     "metadata": {},
     "output_type": "execute_result"
    }
   ],
   "source": [
    "only_bikes = data['Product_Category'] == 'Bikes' # every row that does have a bike is true\n",
    "data[only_bikes]\n"
   ]
  },
  {
   "cell_type": "code",
   "execution_count": 21,
   "metadata": {},
   "outputs": [
    {
     "data": {
      "text/plain": [
       "(25982, 16)"
      ]
     },
     "execution_count": 21,
     "metadata": {},
     "output_type": "execute_result"
    }
   ],
   "source": [
    "data[only_bikes].shape"
   ]
  },
  {
   "cell_type": "code",
   "execution_count": 23,
   "metadata": {},
   "outputs": [
    {
     "data": {
      "text/plain": [
       "Product_Category\n",
       "Accessories    70120\n",
       "Bikes          25982\n",
       "Clothing       16934\n",
       "Name: count, dtype: int64"
      ]
     },
     "execution_count": 23,
     "metadata": {},
     "output_type": "execute_result"
    }
   ],
   "source": [
    "data['Product_Category'].value_counts()"
   ]
  },
  {
   "cell_type": "code",
   "execution_count": 25,
   "metadata": {},
   "outputs": [
    {
     "data": {
      "text/plain": [
       "368.4095726437097"
      ]
     },
     "execution_count": 25,
     "metadata": {},
     "output_type": "execute_result"
    }
   ],
   "source": [
    "data['Customer_Gender'].unique()\n",
    "# I want to find the mean profit only for male\n",
    "mean_profit_male = data[data['Customer_Gender'] == 'M']['Profit'].mean()\n",
    "mean_profit_male"
   ]
  },
  {
   "cell_type": "code",
   "execution_count": 27,
   "metadata": {},
   "outputs": [
    {
     "data": {
      "text/plain": [
       "377.23322491045974"
      ]
     },
     "execution_count": 27,
     "metadata": {},
     "output_type": "execute_result"
    }
   ],
   "source": [
    "mean_profit_female = data[data['Customer_Gender'] == 'F']['Profit'].mean()\n",
    "mean_profit_female"
   ]
  },
  {
   "cell_type": "code",
   "execution_count": 30,
   "metadata": {},
   "outputs": [
    {
     "data": {
      "text/plain": [
       "TtestResult(statistic=-2.4913922626943656, pvalue=0.012725777563722436, df=113034.0)"
      ]
     },
     "execution_count": 30,
     "metadata": {},
     "output_type": "execute_result"
    }
   ],
   "source": [
    "import scipy.stats as stats\n",
    "group_M = data[data['Customer_Gender'] == 'M']['Profit']\n",
    "group_F = data[data['Customer_Gender'] == 'F']['Profit']\n",
    "\n",
    "stats.ttest_ind(group_M, group_F) # we don't need to calculate the mean, just to pass the two found means in the function"
   ]
  },
  {
   "cell_type": "code",
   "execution_count": null,
   "metadata": {},
   "outputs": [],
   "source": [
    "stats.f_oneway # to do what? Try to run the anova based on the country? What are the differences in the age group?\n",
    "data.Age_Group.unique() # data is a dataframe for pandas"
   ]
  },
  {
   "cell_type": "code",
   "execution_count": 49,
   "metadata": {},
   "outputs": [
    {
     "name": "stdout",
     "output_type": "stream",
     "text": [
      "['canada' 'Australia' 'France' 'United States' 'United Kingdom' 'Germany']\n",
      "['Youth (<25)' 'Young Adults (25-34)' 'Adults (35-64)' 'Seniors (64+)']\n",
      "Country\n",
      "Australia         455.446065\n",
      "France            390.491271\n",
      "Germany           393.188142\n",
      "United Kingdom    356.656608\n",
      "United States     354.865862\n",
      "canada            267.745380\n",
      "Name: Profit, dtype: float64\n",
      "1         2086.0\n",
      "7          814.0\n",
      "8         1776.0\n",
      "13         392.0\n",
      "14         392.0\n",
      "           ...  \n",
      "113028     196.0\n",
      "113030    3162.0\n",
      "113033     407.0\n",
      "113034    1043.0\n",
      "113035     407.0\n",
      "Name: Profit, Length: 23936, dtype: float64\n",
      "{}\n",
      "1         2086.0\n",
      "7          814.0\n",
      "8         1776.0\n",
      "13         392.0\n",
      "14         392.0\n",
      "           ...  \n",
      "113028     196.0\n",
      "113030    3162.0\n",
      "113033     407.0\n",
      "113034    1043.0\n",
      "113035     407.0\n",
      "Name: Profit, Length: 23936, dtype: float64\n"
     ]
    },
    {
     "data": {
      "text/plain": [
       "F_onewayResult(statistic=0.11495691704214099, pvalue=0.7345730482919655)"
      ]
     },
     "execution_count": 49,
     "metadata": {},
     "output_type": "execute_result"
    }
   ],
   "source": [
    "# profit difference by country\n",
    "# consider the countries \n",
    "countries = data['Country'].unique()\n",
    "print(countries)\n",
    "\n",
    "# find out the age group\n",
    "age_group = data['Age_Group'].unique()\n",
    "print(age_group)\n",
    "\n",
    "# profit by country\n",
    "countries_profit = data.groupby('Country')['Profit'].mean() # groupby is from pandas\n",
    "print(countries_profit)\n",
    "\n",
    "# create a variable for each country (each country is a sample)\n",
    "australia = data[data['Country'] == 'Australia']['Profit']\n",
    "print(australia)\n",
    "\n",
    "# to be quicker: make a list of the countries and then use a for loop\n",
    "countries = data['Country'].unique()\n",
    "\n",
    "#country_profits = []\n",
    "country_profits = {}\n",
    "print(country_profits)\n",
    "\n",
    "for c in countries:\n",
    "    country_profits[c] = data[data['Country'] == c]['Profit']\n",
    "    # country_profits.append(data[data['Country'] == c]['Profit'])\n",
    "\n",
    "# print(country_profits)\n",
    "\n",
    "# if we want to se the keys: countries_profits.keys() and to see the values: countries_profits.values()\n",
    "country_profits['Australia']\n",
    "print(country_profits['Australia'])\n",
    "\n",
    "# anova test for countries profit: we pass the sample from above (NOT the mean of each country)\n",
    "# stats.f_oneway(country_profits['Australia'],country_profits['Germany'],country_profits['canada'])\n",
    "# null hypothesis\n",
    "stats.f_oneway(country_profits['France'],country_profits['Germany']) # the pvalue in anova looks at if the countries are \"statistically the same\" and not only at if the means are exactly the same (they are not)\n",
    "# we reject the null hypothesis (the profits are equal for all countries)\n",
    "# we accept the alternative hypothesis: there is a significant difference among all countries"
   ]
  },
  {
   "cell_type": "code",
   "execution_count": 57,
   "metadata": {},
   "outputs": [
    {
     "name": "stdout",
     "output_type": "stream",
     "text": [
      "['Youth (<25)' 'Young Adults (25-34)' 'Adults (35-64)' 'Seniors (64+)']\n",
      "F-Statistic: 57.56806492529572, P-Value: 3.5410961589774692e-37\n",
      "Reject the null hypothesis: there is a significant difference between the means of the groups\n"
     ]
    }
   ],
   "source": [
    "# find out the age groups\n",
    "age_group = data['Age_Group'].unique()\n",
    "print(age_group)\n",
    "\n",
    "# fund out the profit made by age group\n",
    "age_group_profits = {}\n",
    "\n",
    "for a in age_group:\n",
    "    age_group_profits[a] = data[data['Age_Group'] == a]['Profit']\n",
    "\n",
    "# print(age_group_profits)\n",
    "\n",
    "#stats.f_oneway(pass the samples)\n",
    "age_group_profits.values() # list of values in dictionaries\n",
    "# pass the list as argument to oneway with ASTERISC\n",
    "#f_statistic, p_value = stats.f_oneway(age_group_profits['Youth (<25)'], age_group_profits['Young Adults (25-34)'], age_group_profits['Adults (35-64)'], age_group_profits['Seniors (64+)']) \n",
    "f_statistic, p_value = stats.f_oneway(*age_group_profits.values())\n",
    "# pvalue = 3.5410961589774692e-37\n",
    "print(f'F-Statistic: {f_statistic}, P-Value: {p_value}')\n",
    "\n",
    "# make conclusions based on the p-value (alpha = 0.05)\n",
    "if p_value < 0.05:\n",
    "    print('Reject the null hypothesis: there is a significant difference between the means of the groups')\n",
    "else:\n",
    "    print('Fail to reject the null hypothesis: there is no significant difference between the means of the groups')\n",
    "\n",
    "# run test to run the anova on pairs and see which one has the higher profit/or which one"
   ]
  }
 ],
 "metadata": {
  "kernelspec": {
   "display_name": "Python 3",
   "language": "python",
   "name": "python3"
  },
  "language_info": {
   "codemirror_mode": {
    "name": "ipython",
    "version": 3
   },
   "file_extension": ".py",
   "mimetype": "text/x-python",
   "name": "python",
   "nbconvert_exporter": "python",
   "pygments_lexer": "ipython3",
   "version": "3.10.13"
  }
 },
 "nbformat": 4,
 "nbformat_minor": 2
}
